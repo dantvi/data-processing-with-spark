{
 "cells": [
  {
   "cell_type": "code",
   "execution_count": 1,
   "id": "aab4b687-8702-4a1f-87e9-8960a48c111e",
   "metadata": {},
   "outputs": [
    {
     "name": "stderr",
     "output_type": "stream",
     "text": [
      "25/08/25 15:24:55 WARN Utils: Your hostname, ubuntu-de resolves to a loopback address: 127.0.1.1; using 10.0.2.15 instead (on interface enp0s3)\n",
      "25/08/25 15:24:55 WARN Utils: Set SPARK_LOCAL_IP if you need to bind to another address\n",
      "Setting default log level to \"WARN\".\n",
      "To adjust logging level use sc.setLogLevel(newLevel). For SparkR, use setLogLevel(newLevel).\n",
      "25/08/25 15:24:56 WARN NativeCodeLoader: Unable to load native-hadoop library for your platform... using builtin-java classes where applicable\n"
     ]
    }
   ],
   "source": [
    "from pyspark.sql import SparkSession\n",
    "\n",
    "spark = SparkSession.builder \\\n",
    "    .appName(\"Read Inside Airbnb data\") \\\n",
    "    .getOrCreate()"
   ]
  },
  {
   "cell_type": "code",
   "execution_count": 2,
   "id": "5a20da58-e78b-475d-94d1-872668c2b3c9",
   "metadata": {},
   "outputs": [
    {
     "name": "stderr",
     "output_type": "stream",
     "text": [
      "[Stage 2:>                                                          (0 + 1) / 1]"
     ]
    },
    {
     "name": "stdout",
     "output_type": "stream",
     "text": [
      "Rows: 96651\n"
     ]
    },
    {
     "name": "stderr",
     "output_type": "stream",
     "text": [
      "                                                                                "
     ]
    }
   ],
   "source": [
    "listings = spark.read.csv(\"data/listings.csv\", \n",
    "    header=True,\n",
    "    inferSchema=True,\n",
    "    sep=\",\", \n",
    "    quote='\"',\n",
    "    escape='\"', \n",
    "    multiLine=True,\n",
    "    mode=\"PERMISSIVE\" \n",
    ")\n",
    "print(\"Rows:\", listings.count())"
   ]
  },
  {
   "cell_type": "code",
   "execution_count": 3,
   "id": "d9cd4b39-ec0b-4562-9797-8a041ea3e456",
   "metadata": {},
   "outputs": [
    {
     "name": "stdout",
     "output_type": "stream",
     "text": [
      "root\n",
      " |-- id: long (nullable = true)\n",
      " |-- listing_url: string (nullable = true)\n",
      " |-- scrape_id: long (nullable = true)\n",
      " |-- last_scraped: date (nullable = true)\n",
      " |-- source: string (nullable = true)\n",
      " |-- name: string (nullable = true)\n",
      " |-- description: string (nullable = true)\n",
      " |-- neighborhood_overview: string (nullable = true)\n",
      " |-- picture_url: string (nullable = true)\n",
      " |-- host_id: integer (nullable = true)\n",
      " |-- host_url: string (nullable = true)\n",
      " |-- host_name: string (nullable = true)\n",
      " |-- host_since: date (nullable = true)\n",
      " |-- host_location: string (nullable = true)\n",
      " |-- host_about: string (nullable = true)\n",
      " |-- host_response_time: string (nullable = true)\n",
      " |-- host_response_rate: string (nullable = true)\n",
      " |-- host_acceptance_rate: string (nullable = true)\n",
      " |-- host_is_superhost: string (nullable = true)\n",
      " |-- host_thumbnail_url: string (nullable = true)\n",
      " |-- host_picture_url: string (nullable = true)\n",
      " |-- host_neighbourhood: string (nullable = true)\n",
      " |-- host_listings_count: integer (nullable = true)\n",
      " |-- host_total_listings_count: integer (nullable = true)\n",
      " |-- host_verifications: string (nullable = true)\n",
      " |-- host_has_profile_pic: string (nullable = true)\n",
      " |-- host_identity_verified: string (nullable = true)\n",
      " |-- neighbourhood: string (nullable = true)\n",
      " |-- neighbourhood_cleansed: string (nullable = true)\n",
      " |-- neighbourhood_group_cleansed: string (nullable = true)\n",
      " |-- latitude: double (nullable = true)\n",
      " |-- longitude: double (nullable = true)\n",
      " |-- property_type: string (nullable = true)\n",
      " |-- room_type: string (nullable = true)\n",
      " |-- accommodates: integer (nullable = true)\n",
      " |-- bathrooms: double (nullable = true)\n",
      " |-- bathrooms_text: string (nullable = true)\n",
      " |-- bedrooms: integer (nullable = true)\n",
      " |-- beds: integer (nullable = true)\n",
      " |-- amenities: string (nullable = true)\n",
      " |-- price: string (nullable = true)\n",
      " |-- minimum_nights: integer (nullable = true)\n",
      " |-- maximum_nights: integer (nullable = true)\n",
      " |-- minimum_minimum_nights: integer (nullable = true)\n",
      " |-- maximum_minimum_nights: integer (nullable = true)\n",
      " |-- minimum_maximum_nights: integer (nullable = true)\n",
      " |-- maximum_maximum_nights: integer (nullable = true)\n",
      " |-- minimum_nights_avg_ntm: double (nullable = true)\n",
      " |-- maximum_nights_avg_ntm: double (nullable = true)\n",
      " |-- calendar_updated: string (nullable = true)\n",
      " |-- has_availability: string (nullable = true)\n",
      " |-- availability_30: integer (nullable = true)\n",
      " |-- availability_60: integer (nullable = true)\n",
      " |-- availability_90: integer (nullable = true)\n",
      " |-- availability_365: integer (nullable = true)\n",
      " |-- calendar_last_scraped: date (nullable = true)\n",
      " |-- number_of_reviews: integer (nullable = true)\n",
      " |-- number_of_reviews_ltm: integer (nullable = true)\n",
      " |-- number_of_reviews_l30d: integer (nullable = true)\n",
      " |-- availability_eoy: integer (nullable = true)\n",
      " |-- number_of_reviews_ly: integer (nullable = true)\n",
      " |-- estimated_occupancy_l365d: integer (nullable = true)\n",
      " |-- estimated_revenue_l365d: integer (nullable = true)\n",
      " |-- first_review: date (nullable = true)\n",
      " |-- last_review: date (nullable = true)\n",
      " |-- review_scores_rating: double (nullable = true)\n",
      " |-- review_scores_accuracy: double (nullable = true)\n",
      " |-- review_scores_cleanliness: double (nullable = true)\n",
      " |-- review_scores_checkin: double (nullable = true)\n",
      " |-- review_scores_communication: double (nullable = true)\n",
      " |-- review_scores_location: double (nullable = true)\n",
      " |-- review_scores_value: double (nullable = true)\n",
      " |-- license: string (nullable = true)\n",
      " |-- instant_bookable: string (nullable = true)\n",
      " |-- calculated_host_listings_count: integer (nullable = true)\n",
      " |-- calculated_host_listings_count_entire_homes: integer (nullable = true)\n",
      " |-- calculated_host_listings_count_private_rooms: integer (nullable = true)\n",
      " |-- calculated_host_listings_count_shared_rooms: integer (nullable = true)\n",
      " |-- reviews_per_month: double (nullable = true)\n",
      "\n"
     ]
    }
   ],
   "source": [
    "listings.printSchema()"
   ]
  },
  {
   "cell_type": "code",
   "execution_count": 4,
   "id": "85786288-3ac5-4de3-91af-b32b6f27fb8e",
   "metadata": {},
   "outputs": [
    {
     "name": "stdout",
     "output_type": "stream",
     "text": [
      "+----------------------------------------------------------------------------------------------------------+\n",
      "|picture_url                                                                                               |\n",
      "+----------------------------------------------------------------------------------------------------------+\n",
      "|https://a0.muscache.com/pictures/hosting/Hosting-264776/original/3cc7b93f-dbda-4ded-ac15-e9d96691e7ca.jpeg|\n",
      "|https://a0.muscache.com/pictures/hosting/Hosting-264777/original/228dd7a0-3db7-48ce-9e1d-55e10911b2b4.jpeg|\n",
      "|https://a0.muscache.com/pictures/50662093/af12eefc_original.jpg                                           |\n",
      "|https://a0.muscache.com/pictures/50660860/e4406bea_original.jpg                                           |\n",
      "|https://a0.muscache.com/pictures/airflow/Hosting-264780/original/7485e09c-4ff7-47c2-adb8-02de476c547c.jpg |\n",
      "|https://a0.muscache.com/pictures/29250432/607b3eec_original.jpg                                           |\n",
      "|https://a0.muscache.com/pictures/29250115/63d8e012_original.jpg                                           |\n",
      "|https://a0.muscache.com/pictures/hosting/Hosting-264783/original/5b5ec052-62dc-4122-a883-c767419ad6eb.jpeg|\n",
      "|https://a0.muscache.com/pictures/hosting/Hosting-264789/original/c1d2dd24-3883-42bc-96b7-b8edae182a5b.jpeg|\n",
      "|https://a0.muscache.com/pictures/22949657/a43964f8_original.jpg                                           |\n",
      "+----------------------------------------------------------------------------------------------------------+\n",
      "only showing top 10 rows\n",
      "\n"
     ]
    }
   ],
   "source": [
    "# 1. Get a non-null picture URL for any property (\"picture_url\" field)\n",
    "# Select any non-null picture URL\n",
    "from pyspark.sql.functions import col\n",
    "\n",
    "non_null_pictures = listings.filter(col(\"picture_url\").isNotNull()) \\\n",
    "                            .select(\"picture_url\")\n",
    "\n",
    "non_null_pictures.show(10, truncate=False)"
   ]
  },
  {
   "cell_type": "code",
   "execution_count": 16,
   "id": "07aac6df-eb62-4813-9727-d6f13b1cf8da",
   "metadata": {},
   "outputs": [
    {
     "name": "stderr",
     "output_type": "stream",
     "text": [
      "[Stage 13:>                                                         (0 + 1) / 1]"
     ]
    },
    {
     "name": "stdout",
     "output_type": "stream",
     "text": [
      "Number of properties with > 10 reviews/month: 57\n"
     ]
    },
    {
     "name": "stderr",
     "output_type": "stream",
     "text": [
      "                                                                                "
     ]
    }
   ],
   "source": [
    "# 2. Get number of properties that get more than 10 reviews per month\n",
    "num_props = listings.filter(col(\"reviews_per_month\") > 10).count()\n",
    "print(\"Number of properties with > 10 reviews/month:\", num_props)"
   ]
  },
  {
   "cell_type": "code",
   "execution_count": 17,
   "id": "3c810e97-ad51-4233-8e7d-0bd42fe51957",
   "metadata": {},
   "outputs": [
    {
     "name": "stderr",
     "output_type": "stream",
     "text": [
      "[Stage 16:>                                                         (0 + 1) / 1]"
     ]
    },
    {
     "name": "stdout",
     "output_type": "stream",
     "text": [
      "Properties with more bathrooms than bedrooms: 9143\n",
      "+------+--------------------------------------------------+---------+--------+\n",
      "|id    |name                                              |bathrooms|bedrooms|\n",
      "+------+--------------------------------------------------+---------+--------+\n",
      "|266037|Central London with Stunning Views!               |1.5      |1       |\n",
      "|268398|Also five minutes to South Bank                   |1.5      |1       |\n",
      "|24328 |Battersea live/work artist house                  |1.5      |1       |\n",
      "|432841|Large double bedroom in Shoreditch w/garden       |1.5      |1       |\n",
      "|433867|Bedroom In Great Location Stratford               |1.5      |1       |\n",
      "|283569|Spacious luxury 2 bedroom apartment               |1.5      |1       |\n",
      "|437722|Very Central! Bayswater Apartment                 |2.0      |1       |\n",
      "|442457|Room in London with a family                      |1.5      |1       |\n",
      "|445346|Stunning large room (double sofa bed), Hackney, E9|1.5      |1       |\n",
      "|56229 |Cosy Double studio in Zone 2 Hammersmith (1)      |1.5      |1       |\n",
      "+------+--------------------------------------------------+---------+--------+\n",
      "only showing top 10 rows\n",
      "\n"
     ]
    },
    {
     "name": "stderr",
     "output_type": "stream",
     "text": [
      "                                                                                "
     ]
    }
   ],
   "source": [
    "# 3. Get properties that have more bathrooms than bedrooms\n",
    "more_bath_than_bed = listings.filter(col(\"bathrooms\") > col(\"bedrooms\"))\n",
    "\n",
    "print(\"Properties with more bathrooms than bedrooms:\", more_bath_than_bed.count())\n",
    "more_bath_than_bed.select(\"id\", \"name\", \"bathrooms\", \"bedrooms\").show(10, truncate=False)"
   ]
  },
  {
   "cell_type": "code",
   "execution_count": 20,
   "id": "cd9316f8-82e5-44a0-aa44-a326e6fe551e",
   "metadata": {},
   "outputs": [
    {
     "name": "stdout",
     "output_type": "stream",
     "text": [
      "+-------+\n",
      "|price  |\n",
      "+-------+\n",
      "|$297.00|\n",
      "|$98.00 |\n",
      "|$148.00|\n",
      "|$144.00|\n",
      "|$157.00|\n",
      "|$148.00|\n",
      "|$120.00|\n",
      "|$216.00|\n",
      "|$238.00|\n",
      "|$62.00 |\n",
      "+-------+\n",
      "only showing top 10 rows\n",
      "\n"
     ]
    }
   ],
   "source": [
    "listings.select(\"price\").where(col(\"price\").isNotNull()).show(10, truncate=False)"
   ]
  },
  {
   "cell_type": "code",
   "execution_count": 21,
   "id": "f576362b-4406-4861-93bf-4525895d631a",
   "metadata": {},
   "outputs": [
    {
     "name": "stderr",
     "output_type": "stream",
     "text": [
      "[Stage 23:>                                                         (0 + 1) / 1]"
     ]
    },
    {
     "name": "stdout",
     "output_type": "stream",
     "text": [
      "Number of properties with price > 5000: 82\n",
      "[Row(id=9470827, name='Room in a cosy flat. Central, clean', price_num=8000.0), Row(id=10475894, name='Spacious Private Ground Floor Room', price_num=6308.0), Row(id=13254774, name='No Longer Available', price_num=53588.0), Row(id=13841484, name='Bright & airy DoubleBed with EnSuite in Zone 2!', price_num=74100.0), Row(id=17709189, name='Stunning home overlook canary wharf', price_num=7360.0)]\n"
     ]
    },
    {
     "name": "stderr",
     "output_type": "stream",
     "text": [
      "                                                                                "
     ]
    }
   ],
   "source": [
    "# 4. Get properties where the price is greater than 5,000. Collect the result as a Python list\n",
    "# Remember to convert a price into a number first!\n",
    "from pyspark.sql.functions import regexp_replace\n",
    "\n",
    "# Convert price from string to float\n",
    "listings_num = listings.withColumn(\n",
    "    \"price_num\",\n",
    "    regexp_replace(col(\"price\"), \"[$,]\", \"\").cast(\"double\")\n",
    ")\n",
    "\n",
    "# Filter on price > 5000\n",
    "expensive_props = listings_num.filter(col(\"price_num\") > 5000)\n",
    "\n",
    "# Collect results as a Python list\n",
    "result = expensive_props.select(\"id\", \"name\", \"price_num\").collect()\n",
    "\n",
    "print(\"Number of properties with price > 5000:\", len(result))\n",
    "print(result[:5])"
   ]
  },
  {
   "cell_type": "code",
   "execution_count": 8,
   "id": "7672f4d2-63cb-4240-80f7-140bc44798fe",
   "metadata": {},
   "outputs": [],
   "source": [
    "# 5. Get a list of properties with the following characteristics:\n",
    "# * price < 150\n",
    "# * more than 20 reviews\n",
    "# * review_scores_rating > 4.5\n",
    "# Consider using the \"&\" operator\n"
   ]
  },
  {
   "cell_type": "code",
   "execution_count": 9,
   "id": "2db9de02-0039-4167-a7f5-ef00ecbc19e4",
   "metadata": {},
   "outputs": [],
   "source": [
    "# 6. Get a list of properties with the following characteristics:\n",
    "# * price < 150 OR more than one bathroom\n",
    "# Use the \"|\" operator to implement the OR operator\n"
   ]
  },
  {
   "cell_type": "code",
   "execution_count": 10,
   "id": "4dbc4ba2-53fa-45af-a2fa-c45b13256266",
   "metadata": {},
   "outputs": [],
   "source": [
    "# 7. Get the highest listing price in this dataset\n",
    "# Consider using the \"max\" function from \"pyspark.sql.functions\"\n"
   ]
  },
  {
   "cell_type": "code",
   "execution_count": 11,
   "id": "3375451d-56c4-490a-b66d-8c3529fa718a",
   "metadata": {},
   "outputs": [],
   "source": [
    "# 8. Get the name and a price of property with the highest price\n",
    "# Try to use \"collect\" method to get the highest price first, and then use it in a \"filter\" call \n"
   ]
  },
  {
   "cell_type": "code",
   "execution_count": 12,
   "id": "6e883a01-2305-4227-aa32-2b1e2687d928",
   "metadata": {},
   "outputs": [],
   "source": [
    "# 9. Get the number of hosts in the dataset\n"
   ]
  },
  {
   "cell_type": "code",
   "execution_count": 13,
   "id": "1e4be0bf-44e6-4dde-8733-7b270a9c0e1e",
   "metadata": {},
   "outputs": [],
   "source": [
    "# 10. Get listings with a first review in 2024\n",
    "# Consider using the \"year\" function from \"pyspark.sql.functions\"\n"
   ]
  },
  {
   "cell_type": "code",
   "execution_count": null,
   "id": "7df3dd47-d0bd-4dd3-98d5-fb3533322b4c",
   "metadata": {},
   "outputs": [],
   "source": []
  }
 ],
 "metadata": {
  "kernelspec": {
   "display_name": "Python 3 (ipykernel)",
   "language": "python",
   "name": "python3"
  },
  "language_info": {
   "codemirror_mode": {
    "name": "ipython",
    "version": 3
   },
   "file_extension": ".py",
   "mimetype": "text/x-python",
   "name": "python",
   "nbconvert_exporter": "python",
   "pygments_lexer": "ipython3",
   "version": "3.10.12"
  }
 },
 "nbformat": 4,
 "nbformat_minor": 5
}
