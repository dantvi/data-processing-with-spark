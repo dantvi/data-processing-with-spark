{
 "cells": [
  {
   "cell_type": "code",
   "execution_count": 11,
   "id": "2321b05f-9964-42dd-a049-6226310a5e08",
   "metadata": {},
   "outputs": [],
   "source": [
    "from pyspark.sql import SparkSession\n",
    "\n",
    "spark = SparkSession.builder \\\n",
    "    .appName(\"Spark aggregation functions\") \\\n",
    "    .getOrCreate()\n",
    "spark.sparkContext.setLogLevel(\"ERROR\")"
   ]
  },
  {
   "cell_type": "code",
   "execution_count": 2,
   "id": "b409f1b4-0cb7-4544-ae6e-5ecf760cba7d",
   "metadata": {},
   "outputs": [
    {
     "name": "stderr",
     "output_type": "stream",
     "text": [
      "                                                                                "
     ]
    },
    {
     "name": "stdout",
     "output_type": "stream",
     "text": [
      "root\n",
      " |-- id: long (nullable = true)\n",
      " |-- listing_url: string (nullable = true)\n",
      " |-- scrape_id: long (nullable = true)\n",
      " |-- last_scraped: date (nullable = true)\n",
      " |-- source: string (nullable = true)\n",
      " |-- name: string (nullable = true)\n",
      " |-- description: string (nullable = true)\n",
      " |-- neighborhood_overview: string (nullable = true)\n",
      " |-- picture_url: string (nullable = true)\n",
      " |-- host_id: integer (nullable = true)\n",
      " |-- host_url: string (nullable = true)\n",
      " |-- host_name: string (nullable = true)\n",
      " |-- host_since: date (nullable = true)\n",
      " |-- host_location: string (nullable = true)\n",
      " |-- host_about: string (nullable = true)\n",
      " |-- host_response_time: string (nullable = true)\n",
      " |-- host_response_rate: string (nullable = true)\n",
      " |-- host_acceptance_rate: string (nullable = true)\n",
      " |-- host_is_superhost: string (nullable = true)\n",
      " |-- host_thumbnail_url: string (nullable = true)\n",
      " |-- host_picture_url: string (nullable = true)\n",
      " |-- host_neighbourhood: string (nullable = true)\n",
      " |-- host_listings_count: integer (nullable = true)\n",
      " |-- host_total_listings_count: integer (nullable = true)\n",
      " |-- host_verifications: string (nullable = true)\n",
      " |-- host_has_profile_pic: string (nullable = true)\n",
      " |-- host_identity_verified: string (nullable = true)\n",
      " |-- neighbourhood: string (nullable = true)\n",
      " |-- neighbourhood_cleansed: string (nullable = true)\n",
      " |-- neighbourhood_group_cleansed: string (nullable = true)\n",
      " |-- latitude: double (nullable = true)\n",
      " |-- longitude: double (nullable = true)\n",
      " |-- property_type: string (nullable = true)\n",
      " |-- room_type: string (nullable = true)\n",
      " |-- accommodates: integer (nullable = true)\n",
      " |-- bathrooms: double (nullable = true)\n",
      " |-- bathrooms_text: string (nullable = true)\n",
      " |-- bedrooms: integer (nullable = true)\n",
      " |-- beds: integer (nullable = true)\n",
      " |-- amenities: string (nullable = true)\n",
      " |-- price: string (nullable = true)\n",
      " |-- minimum_nights: integer (nullable = true)\n",
      " |-- maximum_nights: integer (nullable = true)\n",
      " |-- minimum_minimum_nights: integer (nullable = true)\n",
      " |-- maximum_minimum_nights: integer (nullable = true)\n",
      " |-- minimum_maximum_nights: integer (nullable = true)\n",
      " |-- maximum_maximum_nights: integer (nullable = true)\n",
      " |-- minimum_nights_avg_ntm: double (nullable = true)\n",
      " |-- maximum_nights_avg_ntm: double (nullable = true)\n",
      " |-- calendar_updated: string (nullable = true)\n",
      " |-- has_availability: string (nullable = true)\n",
      " |-- availability_30: integer (nullable = true)\n",
      " |-- availability_60: integer (nullable = true)\n",
      " |-- availability_90: integer (nullable = true)\n",
      " |-- availability_365: integer (nullable = true)\n",
      " |-- calendar_last_scraped: date (nullable = true)\n",
      " |-- number_of_reviews: integer (nullable = true)\n",
      " |-- number_of_reviews_ltm: integer (nullable = true)\n",
      " |-- number_of_reviews_l30d: integer (nullable = true)\n",
      " |-- availability_eoy: integer (nullable = true)\n",
      " |-- number_of_reviews_ly: integer (nullable = true)\n",
      " |-- estimated_occupancy_l365d: integer (nullable = true)\n",
      " |-- estimated_revenue_l365d: integer (nullable = true)\n",
      " |-- first_review: date (nullable = true)\n",
      " |-- last_review: date (nullable = true)\n",
      " |-- review_scores_rating: double (nullable = true)\n",
      " |-- review_scores_accuracy: double (nullable = true)\n",
      " |-- review_scores_cleanliness: double (nullable = true)\n",
      " |-- review_scores_checkin: double (nullable = true)\n",
      " |-- review_scores_communication: double (nullable = true)\n",
      " |-- review_scores_location: double (nullable = true)\n",
      " |-- review_scores_value: double (nullable = true)\n",
      " |-- license: string (nullable = true)\n",
      " |-- instant_bookable: string (nullable = true)\n",
      " |-- calculated_host_listings_count: integer (nullable = true)\n",
      " |-- calculated_host_listings_count_entire_homes: integer (nullable = true)\n",
      " |-- calculated_host_listings_count_private_rooms: integer (nullable = true)\n",
      " |-- calculated_host_listings_count_shared_rooms: integer (nullable = true)\n",
      " |-- reviews_per_month: double (nullable = true)\n",
      "\n"
     ]
    }
   ],
   "source": [
    "listings = spark.read.csv(\"data/listings.csv\", \n",
    "    header=True,\n",
    "    inferSchema=True,\n",
    "    sep=\",\", \n",
    "    quote='\"',\n",
    "    escape='\"', \n",
    "    multiLine=True,\n",
    "    mode=\"PERMISSIVE\" \n",
    ")\n",
    "listings.printSchema()"
   ]
  },
  {
   "cell_type": "code",
   "execution_count": 3,
   "id": "ed5808e2-8296-4e55-8b9f-8ced9e7cae0b",
   "metadata": {},
   "outputs": [
    {
     "name": "stderr",
     "output_type": "stream",
     "text": [
      "[Stage 3:>                                                          (0 + 1) / 1]"
     ]
    },
    {
     "name": "stdout",
     "output_type": "stream",
     "text": [
      "root\n",
      " |-- listing_id: long (nullable = true)\n",
      " |-- id: long (nullable = true)\n",
      " |-- date: date (nullable = true)\n",
      " |-- reviewer_id: integer (nullable = true)\n",
      " |-- reviewer_name: string (nullable = true)\n",
      " |-- comments: string (nullable = true)\n",
      "\n"
     ]
    },
    {
     "name": "stderr",
     "output_type": "stream",
     "text": [
      "                                                                                "
     ]
    }
   ],
   "source": [
    "reviews = spark.read.csv(\"data/reviews.csv\", \n",
    "    header=True,\n",
    "    inferSchema=True,\n",
    "    sep=\",\",\n",
    "    quote='\"',\n",
    "    escape='\"',\n",
    "    multiLine=True,\n",
    "    mode=\"PERMISSIVE\"\n",
    ")\n",
    "reviews.printSchema()"
   ]
  },
  {
   "cell_type": "code",
   "execution_count": 4,
   "id": "fde34e78-3feb-4fd3-a675-3831adf3bc73",
   "metadata": {},
   "outputs": [
    {
     "name": "stderr",
     "output_type": "stream",
     "text": [
      "                                                                                "
     ]
    },
    {
     "name": "stdout",
     "output_type": "stream",
     "text": [
      "Number of listings with at least one review: 71487\n"
     ]
    },
    {
     "name": "stderr",
     "output_type": "stream",
     "text": [
      "                                                                                "
     ]
    },
    {
     "name": "stdout",
     "output_type": "stream",
     "text": [
      "+----------+-----------------+\n",
      "|listing_id|number_of_reviews|\n",
      "+----------+-----------------+\n",
      "|47408549  |1855             |\n",
      "|30760930  |1682             |\n",
      "|43120947  |1615             |\n",
      "|19670926  |1436             |\n",
      "|45006692  |1433             |\n",
      "|1436172   |1195             |\n",
      "|2126708   |1122             |\n",
      "|1436177   |1005             |\n",
      "|47438714  |978              |\n",
      "|3855375   |973              |\n",
      "+----------+-----------------+\n",
      "only showing top 10 rows\n",
      "\n"
     ]
    }
   ],
   "source": [
    "# 1. Count the number of reviews per listing using the \"reviews\" dataset\n",
    "from pyspark.sql.functions import col\n",
    "\n",
    "# Count reviews per listing_id\n",
    "reviews_per_listing = reviews.groupBy(\"listing_id\").count() \\\n",
    "    .withColumnRenamed(\"count\", \"number_of_reviews\") \\\n",
    "    .orderBy(col(\"number_of_reviews\").desc())\n",
    "\n",
    "print(\"Number of listings with at least one review:\", reviews_per_listing.count())\n",
    "reviews_per_listing.show(10, truncate=False)"
   ]
  },
  {
   "cell_type": "code",
   "execution_count": 5,
   "id": "5bc370f9-0375-4b2c-a8cf-7fd7437e1978",
   "metadata": {},
   "outputs": [
    {
     "name": "stderr",
     "output_type": "stream",
     "text": [
      "[Stage 13:>                                                         (0 + 1) / 1]"
     ]
    },
    {
     "name": "stdout",
     "output_type": "stream",
     "text": [
      "Number of hosts with at least one listing: 55804\n"
     ]
    },
    {
     "name": "stderr",
     "output_type": "stream",
     "text": [
      "[Stage 19:>                                                         (0 + 1) / 1]"
     ]
    },
    {
     "name": "stdout",
     "output_type": "stream",
     "text": [
      "+---------+--------------+------------------+\n",
      "|host_id  |total_listings|avg_review_score  |\n",
      "+---------+--------------+------------------+\n",
      "|446820235|495           |4.541666666666667 |\n",
      "|314162972|420           |4.3734328358208945|\n",
      "|28820321 |285           |4.580697674418606 |\n",
      "|1432477  |246           |4.4001843317972344|\n",
      "|156158778|213           |4.890319148936171 |\n",
      "|33889201 |197           |4.634916666666666 |\n",
      "|47609036 |142           |4.751651376146787 |\n",
      "|228928499|132           |4.846607142857144 |\n",
      "|124359784|128           |4.404491525423728 |\n",
      "|83740964 |123           |4.4220000000000015|\n",
      "+---------+--------------+------------------+\n",
      "only showing top 10 rows\n",
      "\n"
     ]
    },
    {
     "name": "stderr",
     "output_type": "stream",
     "text": [
      "                                                                                "
     ]
    }
   ],
   "source": [
    "# 2. Compute the total number of listings and average review score per host\n",
    "from pyspark.sql.functions import countDistinct, avg\n",
    "\n",
    "# Compute number of listings and average review score per host\n",
    "host_stats = listings.groupBy(\"host_id\").agg(\n",
    "    countDistinct(\"id\").alias(\"total_listings\"),\n",
    "    avg(\"review_scores_rating\").alias(\"avg_review_score\")\n",
    ").orderBy(col(\"total_listings\").desc())\n",
    "\n",
    "print(\"Number of hosts with at least one listing:\", host_stats.count())\n",
    "host_stats.show(10, truncate=False)"
   ]
  },
  {
   "cell_type": "code",
   "execution_count": 6,
   "id": "84d9e7bd-341e-4468-881c-ef4491df08b4",
   "metadata": {},
   "outputs": [
    {
     "name": "stdout",
     "output_type": "stream",
     "text": [
      "Top 10 listings by number of reviews:\n"
     ]
    },
    {
     "name": "stderr",
     "output_type": "stream",
     "text": [
      "[Stage 25:>                                                         (0 + 1) / 1]"
     ]
    },
    {
     "name": "stdout",
     "output_type": "stream",
     "text": [
      "+----------+--------------------------------------------------+-----------------+\n",
      "|listing_id|name                                              |number_of_reviews|\n",
      "+----------+--------------------------------------------------+-----------------+\n",
      "|47408549  |Double Room+ Ensuite                              |1855             |\n",
      "|30760930  |Double Garden View room - London House Hotel***   |1682             |\n",
      "|43120947  |Private double room with en suite facilities      |1615             |\n",
      "|19670926  |Locke Studio Apartment at Leman Locke             |1436             |\n",
      "|45006692  |Budget Double Room In Colliers Hotel.             |1433             |\n",
      "|1436172   |Cosy Double in Kings Cross Houseshare nr Eurostar |1195             |\n",
      "|2126708   |London's best transport hub 5 mins walk! Safe too!|1122             |\n",
      "|1436177   |En-suite Double in Kings Cross Houseshare Eurostar|1005             |\n",
      "|47438714  |KX Basic- Small Double- shared bathroom           |978              |\n",
      "|3855375   |Double in Kings Cross Houseshare nr Eurostar      |973              |\n",
      "+----------+--------------------------------------------------+-----------------+\n",
      "only showing top 10 rows\n",
      "\n"
     ]
    },
    {
     "name": "stderr",
     "output_type": "stream",
     "text": [
      "                                                                                "
     ]
    }
   ],
   "source": [
    "# 3: Find the top ten listings with the highest number of reviews\n",
    "\n",
    "# Count reviews per listing_id and join to get listing name\n",
    "top10_reviews = (\n",
    "    reviews.groupBy(\"listing_id\").count()\n",
    "    .withColumnRenamed(\"count\", \"number_of_reviews\")\n",
    "    .join(\n",
    "        listings.select(col(\"id\").alias(\"listing_id\"), \"name\"),\n",
    "        on=\"listing_id\",\n",
    "        how=\"left\"\n",
    "    )\n",
    "    .orderBy(col(\"number_of_reviews\").desc(), col(\"listing_id\").asc())\n",
    ")\n",
    "\n",
    "print(\"Top 10 listings by number of reviews:\")\n",
    "top10_reviews.select(\"listing_id\", \"name\", \"number_of_reviews\").show(10, truncate=False)"
   ]
  },
  {
   "cell_type": "code",
   "execution_count": 12,
   "id": "ada1d343-15b9-4245-9801-7dd468ffd9cd",
   "metadata": {},
   "outputs": [
    {
     "name": "stdout",
     "output_type": "stream",
     "text": [
      "Top 5 neighbourhoods by listings:\n"
     ]
    },
    {
     "name": "stderr",
     "output_type": "stream",
     "text": [
      "[Stage 29:>                                                         (0 + 1) / 1]"
     ]
    },
    {
     "name": "stdout",
     "output_type": "stream",
     "text": [
      "+----------------------+--------------+\n",
      "|neighbourhood_cleansed|listings_count|\n",
      "+----------------------+--------------+\n",
      "|Westminster           |11367         |\n",
      "|Tower Hamlets         |7566          |\n",
      "|Camden                |6564          |\n",
      "|Kensington and Chelsea|6348          |\n",
      "|Hackney               |6279          |\n",
      "+----------------------+--------------+\n",
      "only showing top 5 rows\n",
      "\n"
     ]
    },
    {
     "name": "stderr",
     "output_type": "stream",
     "text": [
      "                                                                                "
     ]
    }
   ],
   "source": [
    "# 4. Find the top five neighborhoods with the most listings\n",
    "\n",
    "top5_neighbourhoods = (\n",
    "    listings\n",
    "        .filter(col(\"neighbourhood_cleansed\").isNotNull())\n",
    "        .groupBy(\"neighbourhood_cleansed\")\n",
    "        .count()\n",
    "        .withColumnRenamed(\"count\", \"listings_count\")\n",
    "        .orderBy(col(\"listings_count\").desc(), col(\"neighbourhood_cleansed\").asc())\n",
    ")\n",
    "\n",
    "print(\"Top 5 neighbourhoods by listings:\")\n",
    "top5_neighbourhoods.show(5, truncate=False)"
   ]
  },
  {
   "cell_type": "code",
   "execution_count": 8,
   "id": "a45177ab-5191-4cbf-8f07-5244d78b4f58",
   "metadata": {},
   "outputs": [],
   "source": [
    "# 5. Get a data frame with the following four columns:\n",
    "# * Listing's ID\n",
    "# * Listing's name\n",
    "# * Reviewer's name\n",
    "# * Review's comment\n",
    "# Use \"join\" to combine data from two datasets\n"
   ]
  },
  {
   "cell_type": "code",
   "execution_count": 9,
   "id": "c70008c5-cb99-4079-8309-e812449bd8d7",
   "metadata": {},
   "outputs": [],
   "source": [
    "# 6.Get top five listings with the highest average review comment length. Only return listings with at least 5 reviews\n",
    "# Use the \"length\" function from the \"pyspark.sql.functions\" to get a lenght of a review\n"
   ]
  },
  {
   "cell_type": "code",
   "execution_count": 10,
   "id": "f2d55601-9eb6-496c-b214-6ad56d2aec53",
   "metadata": {},
   "outputs": [],
   "source": [
    "# 7. Using the \"join\" operator find listings without reviews.\n",
    "# Hint: Use \"left_join\" or \"left_anti\" join type when implementing this\n"
   ]
  },
  {
   "cell_type": "code",
   "execution_count": null,
   "id": "888ce8f0-6e49-41ba-b521-64147316cf22",
   "metadata": {},
   "outputs": [],
   "source": []
  }
 ],
 "metadata": {
  "kernelspec": {
   "display_name": "Python 3 (ipykernel)",
   "language": "python",
   "name": "python3"
  },
  "language_info": {
   "codemirror_mode": {
    "name": "ipython",
    "version": 3
   },
   "file_extension": ".py",
   "mimetype": "text/x-python",
   "name": "python",
   "nbconvert_exporter": "python",
   "pygments_lexer": "ipython3",
   "version": "3.10.12"
  }
 },
 "nbformat": 4,
 "nbformat_minor": 5
}
